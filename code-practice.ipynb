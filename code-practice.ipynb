{
 "cells": [
  {
   "cell_type": "code",
   "execution_count": 5,
   "metadata": {
    "collapsed": true,
    "pycharm": {
     "name": "#%%\n"
    }
   },
   "outputs": [
    {
     "name": "stdout",
     "output_type": "stream",
     "text": [
      "The total is \n",
      "10\n"
     ]
    }
   ],
   "source": [
    "a_list = [2, 5, 3]\n",
    "\n",
    "total = 0\n",
    "\n",
    "for element in a_list:\n",
    "    total += element\n",
    "\n",
    "print('The total is ')\n",
    "print(total)\n",
    "\n",
    "\n",
    "\n",
    "\n"
   ]
  },
  {
   "cell_type": "code",
   "execution_count": 12,
   "outputs": [
    {
     "name": "stdout",
     "output_type": "stream",
     "text": [
      "The second largest number is: \n",
      "None\n"
     ]
    }
   ],
   "source": [
    "\n",
    "# Input:\n",
    "#  a: The given list/array of integers.  Example: [1, -2, 3, 4]\n",
    "# Returns:\n",
    "#  The second largest number in the list or None if\n",
    "#  the array's length is only 1 or 2.\n",
    "def second_largest(given_list):\n",
    "    largest = None\n",
    "    second = None\n",
    "    for current_number in given_list:\n",
    "        if largest is None :\n",
    "            largest = current_number\n",
    "        elif current_number > largest:\n",
    "            second = largest\n",
    "            largest = current_number\n",
    "        elif second is None:\n",
    "            second = current_number\n",
    "        elif current_number > second:\n",
    "            second = current_number\n",
    "\n",
    "\n",
    "\n",
    "b_list = [77,1,3,3,2,5]\n",
    "print('The second largest number is: ')\n",
    "print(second_largest(b_list))"
   ],
   "metadata": {
    "collapsed": false,
    "pycharm": {
     "name": "#%%\n"
    }
   }
  }
 ],
 "metadata": {
  "kernelspec": {
   "display_name": "Python 3",
   "language": "python",
   "name": "python3"
  },
  "language_info": {
   "codemirror_mode": {
    "name": "ipython",
    "version": 2
   },
   "file_extension": ".py",
   "mimetype": "text/x-python",
   "name": "python",
   "nbconvert_exporter": "python",
   "pygments_lexer": "ipython2",
   "version": "2.7.6"
  }
 },
 "nbformat": 4,
 "nbformat_minor": 0
}